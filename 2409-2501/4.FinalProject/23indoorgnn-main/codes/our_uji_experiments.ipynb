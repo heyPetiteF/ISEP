{
 "cells": [
  {
   "attachments": {},
   "cell_type": "markdown",
   "metadata": {},
   "source": [
    "### Import required libraries"
   ]
  },
  {
   "cell_type": "code",
   "execution_count": null,
   "metadata": {
    "colab": {
     "base_uri": "https://localhost:8080/"
    },
    "id": "pqrlyFN1AtXI",
    "outputId": "850011fd-9eb1-4afc-8ba2-1416f4801c05"
   },
   "outputs": [],
   "source": [
    "import random\n",
    "import numpy as np\n",
    "import pandas as pd\n",
    "\n",
    "import matplotlib.pyplot as plt\n",
    "\n",
    "import torch\n",
    "import torch.nn as nn\n",
    "import torch.nn.functional as F\n",
    "from torch_geometric.data import Data\n",
    "from torch_geometric.nn import DynamicEdgeConv, MessagePassing, knn_graph\n",
    "from torch.nn import Sequential as Seq, Linear, ReLU\n",
    "\n",
    "from sklearn.svm import SVC\n",
    "\n",
    "from sklearn.neural_network import MLPClassifier\n",
    "from sklearn.metrics import accuracy_score, mean_squared_error\n",
    "from sklearn.neighbors import KNeighborsClassifier\n",
    "from sklearn.preprocessing import StandardScaler, MinMaxScaler, OneHotEncoder, OrdinalEncoder, Normalizer"
   ]
  },
  {
   "attachments": {},
   "cell_type": "markdown",
   "metadata": {
    "id": "HF-jGPyhFeO6"
   },
   "source": [
    "### Selecting Device"
   ]
  },
  {
   "cell_type": "code",
   "execution_count": null,
   "metadata": {},
   "outputs": [],
   "source": [
    "device = torch.device('cuda' if torch.cuda.is_available() else 'cpu')\n",
    "device"
   ]
  },
  {
   "attachments": {},
   "cell_type": "markdown",
   "metadata": {},
   "source": [
    "### Load traning and test data and Concatinate them"
   ]
  },
  {
   "cell_type": "code",
   "execution_count": null,
   "metadata": {},
   "outputs": [],
   "source": [
    "df_train = pd.read_csv('../data_sets/UJIndoorLoc/trainingData.csv')"
   ]
  },
  {
   "cell_type": "code",
   "execution_count": null,
   "metadata": {},
   "outputs": [],
   "source": [
    "missing = 0.0\n",
    "if missing > 0:\n",
    "    df_train = df_train.sample(frac=1-missing, random_state=42)"
   ]
  },
  {
   "cell_type": "code",
   "execution_count": null,
   "metadata": {},
   "outputs": [],
   "source": [
    "df_val = pd.read_csv('../data_sets/UJIndoorLoc/UJIndoorLoc/validationData.csv')\n",
    "\n",
    "train_numb = len(df_train)\n",
    "test_numb = len(df_val)\n",
    "\n",
    "df = pd.concat([df_train, df_val])\n",
    "df"
   ]
  },
  {
   "attachments": {},
   "cell_type": "markdown",
   "metadata": {
    "tags": []
   },
   "source": [
    "### Create Classes for classification"
   ]
  },
  {
   "cell_type": "code",
   "execution_count": null,
   "metadata": {},
   "outputs": [],
   "source": [
    "df['CLASS'] = df['BUILDINGID'].astype(str) + df['FLOOR'].astype(str)\n",
    "df"
   ]
  },
  {
   "cell_type": "code",
   "execution_count": null,
   "metadata": {},
   "outputs": [],
   "source": [
    "no_out = len(df['CLASS'].unique())"
   ]
  },
  {
   "cell_type": "code",
   "execution_count": null,
   "metadata": {},
   "outputs": [],
   "source": [
    "df_y = df[[\"CLASS\"]]\n",
    "df_y"
   ]
  },
  {
   "cell_type": "code",
   "execution_count": null,
   "metadata": {},
   "outputs": [],
   "source": [
    "enc = OrdinalEncoder(dtype=np.int32)\n",
    "y = enc.fit_transform(df_y['CLASS'].values.reshape(-1,1))\n",
    "y = y.reshape(-1,)"
   ]
  },
  {
   "cell_type": "code",
   "execution_count": null,
   "metadata": {},
   "outputs": [],
   "source": [
    "y.max()"
   ]
  },
  {
   "attachments": {},
   "cell_type": "markdown",
   "metadata": {},
   "source": [
    "### Seperate Input and Output"
   ]
  },
  {
   "cell_type": "code",
   "execution_count": null,
   "metadata": {},
   "outputs": [],
   "source": [
    "df_x = df.iloc[: , :520]\n",
    "\n",
    "df_x"
   ]
  },
  {
   "cell_type": "code",
   "execution_count": null,
   "metadata": {},
   "outputs": [],
   "source": [
    "# Split data into train and test sets\n",
    "X_train = df_x[:len(df_train)]\n",
    "X_test = df_x[len(df_train):]\n",
    "y_train = y[:len(df_train)]\n",
    "y_test = y[len(df_train):]"
   ]
  },
  {
   "attachments": {},
   "cell_type": "markdown",
   "metadata": {},
   "source": [
    "### Scale the input features"
   ]
  },
  {
   "cell_type": "code",
   "execution_count": null,
   "metadata": {},
   "outputs": [],
   "source": [
    "norm_scl = Normalizer()\n",
    "\n",
    "norm_scl.fit(X_train)"
   ]
  },
  {
   "cell_type": "code",
   "execution_count": null,
   "metadata": {},
   "outputs": [],
   "source": [
    "df_x = norm_scl.transform(df_x)"
   ]
  },
  {
   "cell_type": "code",
   "execution_count": null,
   "metadata": {},
   "outputs": [],
   "source": [
    "X_train = norm_scl.transform(X_train)\n",
    "X_test = norm_scl.transform(X_test)"
   ]
  },
  {
   "attachments": {},
   "cell_type": "markdown",
   "metadata": {},
   "source": [
    "### KNN Classifier"
   ]
  },
  {
   "cell_type": "code",
   "execution_count": null,
   "metadata": {},
   "outputs": [],
   "source": [
    "acc_list =[]\n",
    "for K in range(1, 60):\n",
    "    knn = KNeighborsClassifier(n_neighbors=K, weights='distance')\n",
    "\n",
    "    # Train the model on the training set\n",
    "    knn.fit(X_train, y_train)\n",
    "\n",
    "    # Predict on the test set\n",
    "    y_pred = knn.predict(X_test)\n",
    "\n",
    "    acc = accuracy_score(y_test, y_pred)\n",
    "    acc_list.append(acc.item())\n",
    "    print(\"K = \", K, \"Accuracy_score: {:.4f}\".format(acc))"
   ]
  },
  {
   "cell_type": "code",
   "execution_count": null,
   "metadata": {},
   "outputs": [],
   "source": [
    "plt.plot(acc_list)\n",
    "plt.title(f\"best accuracy: {max(acc_list)}\")\n",
    "# plt.savefig(f\"result_part/knn_missing_{missing}.png\")"
   ]
  },
  {
   "attachments": {},
   "cell_type": "markdown",
   "metadata": {},
   "source": [
    "### MLP Classifier"
   ]
  },
  {
   "cell_type": "code",
   "execution_count": null,
   "metadata": {},
   "outputs": [],
   "source": [
    "def mlp_call(h_layer):\n",
    "    mlp = MLPClassifier(hidden_layer_sizes=h_layer, activation='relu', solver='adam', random_state=42)\n",
    "    mlp.fit(X_train, y_train)\n",
    "    y_pred = mlp.predict(X_test)\n",
    "    accuracy = accuracy_score(y_test, y_pred)\n",
    "    print(f\"Hidden layer: {h_layer} \\tAccuracy: {accuracy}\")\n",
    "    return accuracy"
   ]
  },
  {
   "cell_type": "code",
   "execution_count": null,
   "metadata": {},
   "outputs": [],
   "source": [
    "h_layers = [(32), (64), (64, 32), (128), (128, 32), (256, 32), (256, 64), (512, 64), (512, 256, 64), (1024, 512, 256), (1024, 16)]\n",
    "mlp_res = []\n",
    "for h_layer in h_layers:\n",
    "    mlp_res.append(mlp_call(h_layer))    "
   ]
  },
  {
   "cell_type": "code",
   "execution_count": null,
   "metadata": {},
   "outputs": [],
   "source": [
    "plt.plot(mlp_res)\n",
    "plt.title(f\"best accuracy: {max(mlp_res)}\")\n",
    "plt.savefig(f\"../results/uji_result/mlp_missing_{missing}.png\")"
   ]
  },
  {
   "attachments": {},
   "cell_type": "markdown",
   "metadata": {},
   "source": [
    "### SVM Classifier"
   ]
  },
  {
   "cell_type": "code",
   "execution_count": null,
   "metadata": {},
   "outputs": [],
   "source": [
    "def svm_call(c):\n",
    "    svm = SVC(kernel='rbf', C=c, random_state=42)\n",
    "    svm.fit(X_train, y_train)\n",
    "    y_pred = svm.predict(X_test)\n",
    "    svm_acc = accuracy_score(y_test, y_pred)\n",
    "    print(f\"C = {c} \\tAccuracy: {svm_acc}\")\n",
    "    return svm_acc\n"
   ]
  },
  {
   "cell_type": "code",
   "execution_count": null,
   "metadata": {},
   "outputs": [],
   "source": [
    "cs = [0.5, 0.6, 0.7, 0.8, 0.9, 1.0, 1.1, 1.2, 1.3, 1.4, 1.5]\n",
    "svm_res = []\n",
    "for c in cs:\n",
    "    svm_res.append(svm_call(c))"
   ]
  },
  {
   "cell_type": "code",
   "execution_count": null,
   "metadata": {},
   "outputs": [],
   "source": [
    "plt.plot(cs, svm_res)\n",
    "plt.title(f\"best accuracy: {max(svm_res)}\")\n",
    "plt.savefig(f\"../results/uji_result/svm_missing_{missing}.png\")"
   ]
  },
  {
   "attachments": {},
   "cell_type": "markdown",
   "metadata": {},
   "source": [
    "### Define node Feature and Lable & Create Data object"
   ]
  },
  {
   "cell_type": "code",
   "execution_count": null,
   "metadata": {
    "tags": []
   },
   "outputs": [],
   "source": [
    "# Define the node features\n",
    "x = torch.tensor(df_x, dtype=torch.float).float()\n",
    "\n",
    "# Define the node labels\n",
    "y = torch.tensor(y, dtype=torch.float).long().reshape(-1)\n",
    "\n",
    "# Create the Data object\n",
    "data = Data(x=x, y=y)\n",
    "data = data.to(device)"
   ]
  },
  {
   "attachments": {},
   "cell_type": "markdown",
   "metadata": {},
   "source": [
    "### Define Train and Test Mask"
   ]
  },
  {
   "cell_type": "code",
   "execution_count": null,
   "metadata": {},
   "outputs": [],
   "source": [
    "# train_mask = np.array([random.random() < 0.8 for _ in data.x])\n",
    "train_mask = torch.BoolTensor([True]*(train_numb) + [False]*test_numb).view(-1)\n",
    "train_mask"
   ]
  },
  {
   "cell_type": "code",
   "execution_count": null,
   "metadata": {},
   "outputs": [],
   "source": [
    "test_mask = np.invert(train_mask)\n",
    "test_mask"
   ]
  },
  {
   "cell_type": "code",
   "execution_count": null,
   "metadata": {},
   "outputs": [],
   "source": [
    "data.train_mask = torch.tensor(train_mask, dtype=torch.bool)\n",
    "data.test_mask = torch.tensor(test_mask, dtype=torch.bool)"
   ]
  },
  {
   "attachments": {},
   "cell_type": "markdown",
   "metadata": {},
   "source": [
    "### Print some quick statistics about the data:"
   ]
  },
  {
   "cell_type": "code",
   "execution_count": null,
   "metadata": {
    "colab": {
     "base_uri": "https://localhost:8080/"
    },
    "id": "8aOt8HwfFrH_",
    "outputId": "b7043e70-aafe-4b7d-c877-83feed65c12b"
   },
   "outputs": [],
   "source": [
    "# number of nodes\n",
    "print(\"Number of nodes: \", data.num_nodes)"
   ]
  },
  {
   "cell_type": "code",
   "execution_count": null,
   "metadata": {
    "colab": {
     "base_uri": "https://localhost:8080/"
    },
    "id": "qGJKbv-4GAtY",
    "outputId": "8c2a45dc-0b4d-4027-b252-5e48ef787cd6"
   },
   "outputs": [],
   "source": [
    "# sample nodes from the graph\n",
    "print(\"Shape of sample nodes: \", data.x.shape)"
   ]
  },
  {
   "cell_type": "code",
   "execution_count": null,
   "metadata": {
    "colab": {
     "base_uri": "https://localhost:8080/"
    },
    "id": "MzITbLkpGIUP",
    "outputId": "7a95cc3c-67dc-4050-e22a-556928cefae8"
   },
   "outputs": [],
   "source": [
    "# check training nodes\n",
    "print(\"# of nodes to train on: \", data.train_mask.sum().item())\n",
    "\n",
    "# check test nodes\n",
    "print(\"# of nodes to test on: \", data.test_mask.sum().item())"
   ]
  },
  {
   "cell_type": "code",
   "execution_count": null,
   "metadata": {
    "colab": {
     "base_uri": "https://localhost:8080/"
    },
    "id": "gK7-K6uYH_Iu",
    "outputId": "0613a450-caf0-4137-c00f-a45ed8db412f"
   },
   "outputs": [],
   "source": [
    "print(\"X shape: \", data.x.shape)\n",
    "# print(\"Edge shape: \", data.edge_index.shape)\n",
    "print(\"Y shape: \", data.y.shape)"
   ]
  },
  {
   "attachments": {},
   "cell_type": "markdown",
   "metadata": {
    "id": "TUGNxhBOIuYe"
   },
   "source": [
    "### Define DynamicEdgeConv"
   ]
  },
  {
   "cell_type": "code",
   "execution_count": null,
   "metadata": {},
   "outputs": [],
   "source": [
    "class EdgeConv(MessagePassing):\n",
    "    def __init__(self, in_channels, out_channels):\n",
    "        super().__init__(aggr='sum')\n",
    "        self.mlp = Seq(Linear(2 * in_channels, out_channels), ReLU(), Linear(out_channels, out_channels))\n",
    "\n",
    "    def forward(self, x, edge_index):\n",
    "        return self.propagate(edge_index, x=x)\n",
    "\n",
    "    def message(self, x_i, x_j):\n",
    "        tmp = torch.cat([x_i, x_j - x_i], dim=1)  # tmp has shape [E, 2 * in_channels]\n",
    "        return self.mlp(tmp)"
   ]
  },
  {
   "cell_type": "code",
   "execution_count": null,
   "metadata": {},
   "outputs": [],
   "source": [
    "class DynamicEdgeConv(EdgeConv):\n",
    "    def __init__(self, in_channels, out_channels, k=5):\n",
    "        super().__init__(in_channels, out_channels)\n",
    "        self.k = k\n",
    "\n",
    "    def forward(self, x, batch=None):\n",
    "        edge_index = knn_graph(x, self.k, batch, loop=False, flow=self.flow)\n",
    "        return super().forward(x, edge_index)"
   ]
  },
  {
   "attachments": {},
   "cell_type": "markdown",
   "metadata": {},
   "source": [
    "### Define Model"
   ]
  },
  {
   "cell_type": "code",
   "execution_count": null,
   "metadata": {
    "id": "q0AiwyWrJGhj"
   },
   "outputs": [],
   "source": [
    "class DEC(torch.nn.Module):\n",
    "    def __init__(self, k1, k2):\n",
    "        super().__init__()\n",
    "        self.conv1 = DynamicEdgeConv(data.num_features, 256, k=k1)\n",
    "        self.conv2 = DynamicEdgeConv(256, 50, k=k2)\n",
    "        self.fc1 = nn.Linear(50, no_out)\n",
    "        self.dropout = nn.Dropout(p=0.5)\n",
    "\n",
    "    def forward(self, data):\n",
    "        x = data.x\n",
    "        x = self.conv1(x)\n",
    "        x = F.relu(x)\n",
    "        x = self.dropout(x)\n",
    "        x = self.conv2(x)\n",
    "        x = F.relu(x)\n",
    "        x = self.dropout(x)\n",
    "        x = self.fc1(x)\n",
    "\n",
    "        return x"
   ]
  },
  {
   "cell_type": "code",
   "execution_count": null,
   "metadata": {
    "id": "GSZL4HS5Kd55"
   },
   "outputs": [],
   "source": []
  },
  {
   "cell_type": "code",
   "execution_count": null,
   "metadata": {},
   "outputs": [],
   "source": [
    "# useful function for computing accuracy\n",
    "def compute_accuracy(pred_y, y):\n",
    "    return (pred_y == y).sum()"
   ]
  },
  {
   "cell_type": "code",
   "execution_count": null,
   "metadata": {},
   "outputs": [],
   "source": [
    "data.y"
   ]
  },
  {
   "attachments": {},
   "cell_type": "markdown",
   "metadata": {},
   "source": [
    "### Train the model"
   ]
  },
  {
   "cell_type": "code",
   "execution_count": null,
   "metadata": {
    "colab": {
     "base_uri": "https://localhost:8080/"
    },
    "id": "m39ZbE6RKyim",
    "outputId": "2e7a3a02-e654-4c11-9c50-d40eab4e6c45"
   },
   "outputs": [],
   "source": [
    "def train_fun(k1, k2, lr):\n",
    "    model = DEC(k1, k2).to(device)\n",
    "    optimizer = torch.optim.Adam(model.parameters(), lr=lr, weight_decay=5e-4)\n",
    "    loss_function = nn.CrossEntropyLoss()\n",
    "    \n",
    "    losses = []\n",
    "    accuracies = []\n",
    "    test_accu = []\n",
    "\n",
    "    # epoch = 0\n",
    "    for epoch in range(500):\n",
    "        model.train()\n",
    "        optimizer.zero_grad()\n",
    "        out = model(data)\n",
    "\n",
    "        loss = loss_function(out[data.train_mask], data.y[data.train_mask])\n",
    "        correct = compute_accuracy(out.argmax(dim=1)[data.train_mask], data.y[data.train_mask])\n",
    "        acc = int(correct) / int(data.train_mask.sum())\n",
    "        losses.append(loss.item())\n",
    "        accuracies.append(acc)\n",
    "\n",
    "\n",
    "        loss.backward()\n",
    "        optimizer.step()\n",
    "\n",
    "        # epoch+=1\n",
    "\n",
    "        if (epoch) % 1 == 0:\n",
    "            model.eval()\n",
    "            pred = model(data).argmax(dim=1)\n",
    "            correct = compute_accuracy(pred[data.test_mask], data.y[data.test_mask])\n",
    "            acc_test = int(correct) / int(data.test_mask.sum())\n",
    "            test_accu.append(acc_test)\n",
    "            print(f'Epoch: {epoch}, \\tAccuracy: {acc}, \\tTest accuracy: {acc_test}')\n",
    "          \n",
    "    res = f\"best performance on train: {max(accuracies)}, test: {max(test_accu)}\"  \n",
    "    print(res)\n",
    "    plt.plot(accuracies)\n",
    "    plt.plot(test_accu)\n",
    "    plt.title(res)\n",
    "    plt.legend(['Train acc.', 'Test acc.'])\n",
    "    plt.savefig(f'../results/uji_result/max_dec_missing_{missing}_({k1}_{k2}).png')\n",
    "    plt.show()"
   ]
  },
  {
   "cell_type": "markdown",
   "metadata": {},
   "source": [
    "### Grid Search with varying k1 and k2"
   ]
  },
  {
   "cell_type": "code",
   "execution_count": null,
   "metadata": {},
   "outputs": [],
   "source": [
    "for k1 in [30, 20, 15, 10, 5, 2]:\n",
    "    for k2 in [15, 10, 6, 3, 1]:\n",
    "        if k1 > k2:\n",
    "            print(\"Doing for: \", k1, k2)\n",
    "            train_fun(k1, k2, 0.009)"
   ]
  }
 ],
 "metadata": {
  "colab": {
   "provenance": []
  },
  "kernelspec": {
   "display_name": "indoor1",
   "language": "python",
   "name": "python3"
  },
  "language_info": {
   "codemirror_mode": {
    "name": "ipython",
    "version": 3
   },
   "file_extension": ".py",
   "mimetype": "text/x-python",
   "name": "python",
   "nbconvert_exporter": "python",
   "pygments_lexer": "ipython3",
   "version": "3.10.6"
  }
 },
 "nbformat": 4,
 "nbformat_minor": 4
}
