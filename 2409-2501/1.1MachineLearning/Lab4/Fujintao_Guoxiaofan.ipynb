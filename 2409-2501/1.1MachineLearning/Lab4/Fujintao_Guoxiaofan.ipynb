{
 "cells": [
  {
   "cell_type": "markdown",
   "id": "d940b510",
   "metadata": {},
   "source": [
    "# 2 Part II : Practical application\n",
    "## 2.1 K-means clustering"
   ]
  },
  {
   "cell_type": "code",
   "execution_count": 7,
   "id": "9c8a669f",
   "metadata": {},
   "outputs": [
    {
     "name": "stdout",
     "output_type": "stream",
     "text": [
      "Number of Observations: 7050\n",
      "Number of Variables: 12\n"
     ]
    }
   ],
   "source": [
    "import pandas as pd\n",
    "\n",
    "# (c)\n",
    "# Load the data\n",
    "data = pd.read_csv(\"D:/study/A3/ML_lab4/Live_20210128.csv\" )\n",
    "# Drop the last 4 columns\n",
    "Live = data.iloc[:, :-4]\n",
    "\n",
    "# Check the number of observations and variables\n",
    "num_observations, num_variables = Live.shape\n",
    "print(\"Number of Observations:\", num_observations)\n",
    "print(\"Number of Variables:\", num_variables)\n"
   ]
  },
  {
   "cell_type": "code",
   "execution_count": 6,
   "id": "e0f139d9",
   "metadata": {},
   "outputs": [
    {
     "data": {
      "text/html": [
       "<div>\n",
       "<style scoped>\n",
       "    .dataframe tbody tr th:only-of-type {\n",
       "        vertical-align: middle;\n",
       "    }\n",
       "\n",
       "    .dataframe tbody tr th {\n",
       "        vertical-align: top;\n",
       "    }\n",
       "\n",
       "    .dataframe thead th {\n",
       "        text-align: right;\n",
       "    }\n",
       "</style>\n",
       "<table border=\"1\" class=\"dataframe\">\n",
       "  <thead>\n",
       "    <tr style=\"text-align: right;\">\n",
       "      <th></th>\n",
       "      <th>status_id</th>\n",
       "      <th>num_reactions</th>\n",
       "      <th>num_comments</th>\n",
       "      <th>num_shares</th>\n",
       "      <th>num_likes</th>\n",
       "      <th>num_loves</th>\n",
       "      <th>num_wows</th>\n",
       "      <th>num_hahas</th>\n",
       "      <th>num_sads</th>\n",
       "      <th>num_angrys</th>\n",
       "    </tr>\n",
       "  </thead>\n",
       "  <tbody>\n",
       "    <tr>\n",
       "      <th>count</th>\n",
       "      <td>7050.000000</td>\n",
       "      <td>7050.000000</td>\n",
       "      <td>7050.000000</td>\n",
       "      <td>7050.000000</td>\n",
       "      <td>7050.000000</td>\n",
       "      <td>7050.000000</td>\n",
       "      <td>7050.000000</td>\n",
       "      <td>7050.000000</td>\n",
       "      <td>7050.000000</td>\n",
       "      <td>7050.000000</td>\n",
       "    </tr>\n",
       "    <tr>\n",
       "      <th>mean</th>\n",
       "      <td>3525.500000</td>\n",
       "      <td>230.117163</td>\n",
       "      <td>224.356028</td>\n",
       "      <td>40.022553</td>\n",
       "      <td>215.043121</td>\n",
       "      <td>12.728652</td>\n",
       "      <td>1.289362</td>\n",
       "      <td>0.696454</td>\n",
       "      <td>0.243688</td>\n",
       "      <td>0.113191</td>\n",
       "    </tr>\n",
       "    <tr>\n",
       "      <th>std</th>\n",
       "      <td>2035.304031</td>\n",
       "      <td>462.625309</td>\n",
       "      <td>889.636820</td>\n",
       "      <td>131.599965</td>\n",
       "      <td>449.472357</td>\n",
       "      <td>39.972930</td>\n",
       "      <td>8.719650</td>\n",
       "      <td>3.957183</td>\n",
       "      <td>1.597156</td>\n",
       "      <td>0.726812</td>\n",
       "    </tr>\n",
       "    <tr>\n",
       "      <th>min</th>\n",
       "      <td>1.000000</td>\n",
       "      <td>0.000000</td>\n",
       "      <td>0.000000</td>\n",
       "      <td>0.000000</td>\n",
       "      <td>0.000000</td>\n",
       "      <td>0.000000</td>\n",
       "      <td>0.000000</td>\n",
       "      <td>0.000000</td>\n",
       "      <td>0.000000</td>\n",
       "      <td>0.000000</td>\n",
       "    </tr>\n",
       "    <tr>\n",
       "      <th>25%</th>\n",
       "      <td>1763.250000</td>\n",
       "      <td>17.000000</td>\n",
       "      <td>0.000000</td>\n",
       "      <td>0.000000</td>\n",
       "      <td>17.000000</td>\n",
       "      <td>0.000000</td>\n",
       "      <td>0.000000</td>\n",
       "      <td>0.000000</td>\n",
       "      <td>0.000000</td>\n",
       "      <td>0.000000</td>\n",
       "    </tr>\n",
       "    <tr>\n",
       "      <th>50%</th>\n",
       "      <td>3525.500000</td>\n",
       "      <td>59.500000</td>\n",
       "      <td>4.000000</td>\n",
       "      <td>0.000000</td>\n",
       "      <td>58.000000</td>\n",
       "      <td>0.000000</td>\n",
       "      <td>0.000000</td>\n",
       "      <td>0.000000</td>\n",
       "      <td>0.000000</td>\n",
       "      <td>0.000000</td>\n",
       "    </tr>\n",
       "    <tr>\n",
       "      <th>75%</th>\n",
       "      <td>5287.750000</td>\n",
       "      <td>219.000000</td>\n",
       "      <td>23.000000</td>\n",
       "      <td>4.000000</td>\n",
       "      <td>184.750000</td>\n",
       "      <td>3.000000</td>\n",
       "      <td>0.000000</td>\n",
       "      <td>0.000000</td>\n",
       "      <td>0.000000</td>\n",
       "      <td>0.000000</td>\n",
       "    </tr>\n",
       "    <tr>\n",
       "      <th>max</th>\n",
       "      <td>7050.000000</td>\n",
       "      <td>4710.000000</td>\n",
       "      <td>20990.000000</td>\n",
       "      <td>3424.000000</td>\n",
       "      <td>4710.000000</td>\n",
       "      <td>657.000000</td>\n",
       "      <td>278.000000</td>\n",
       "      <td>157.000000</td>\n",
       "      <td>51.000000</td>\n",
       "      <td>31.000000</td>\n",
       "    </tr>\n",
       "  </tbody>\n",
       "</table>\n",
       "</div>"
      ],
      "text/plain": [
       "         status_id  num_reactions  num_comments   num_shares    num_likes  \\\n",
       "count  7050.000000    7050.000000   7050.000000  7050.000000  7050.000000   \n",
       "mean   3525.500000     230.117163    224.356028    40.022553   215.043121   \n",
       "std    2035.304031     462.625309    889.636820   131.599965   449.472357   \n",
       "min       1.000000       0.000000      0.000000     0.000000     0.000000   \n",
       "25%    1763.250000      17.000000      0.000000     0.000000    17.000000   \n",
       "50%    3525.500000      59.500000      4.000000     0.000000    58.000000   \n",
       "75%    5287.750000     219.000000     23.000000     4.000000   184.750000   \n",
       "max    7050.000000    4710.000000  20990.000000  3424.000000  4710.000000   \n",
       "\n",
       "         num_loves     num_wows    num_hahas     num_sads   num_angrys  \n",
       "count  7050.000000  7050.000000  7050.000000  7050.000000  7050.000000  \n",
       "mean     12.728652     1.289362     0.696454     0.243688     0.113191  \n",
       "std      39.972930     8.719650     3.957183     1.597156     0.726812  \n",
       "min       0.000000     0.000000     0.000000     0.000000     0.000000  \n",
       "25%       0.000000     0.000000     0.000000     0.000000     0.000000  \n",
       "50%       0.000000     0.000000     0.000000     0.000000     0.000000  \n",
       "75%       3.000000     0.000000     0.000000     0.000000     0.000000  \n",
       "max     657.000000   278.000000   157.000000    51.000000    31.000000  "
      ]
     },
     "execution_count": 6,
     "metadata": {},
     "output_type": "execute_result"
    }
   ],
   "source": [
    "# (d) Perform descriptive statistics\n",
    "Live.describe()"
   ]
  },
  {
   "cell_type": "markdown",
   "id": "4c8ca820",
   "metadata": {},
   "source": [
    "Considering that the variables in the dataset have significantly different scales, for example, 'num_reactions' and 'num_comments' have much larger scales compared to 'num_sads' and 'num_angrys.' Therfore, it is suitable to scale the data before performing clustering so that we can obtain meaningful clusters and ensure that all variables contribute to the clustering process in a balanced way."
   ]
  },
  {
   "cell_type": "code",
   "execution_count": 10,
   "id": "97fc4584",
   "metadata": {},
   "outputs": [],
   "source": [
    "# (e)\n",
    "from sklearn.preprocessing import StandardScaler\n",
    "# Select the features for clustering\n",
    "selected_features = [\"num_reactions\", \"num_comments\", \"num_shares\", \"num_likes\", \"num_loves\"]\n",
    "Live_selected = Live[selected_features]\n",
    "\n",
    "# Scale the selected data\n",
    "scaler = StandardScaler()\n",
    "Live_scaled = scaler.fit_transform(Live_selected)"
   ]
  },
  {
   "cell_type": "code",
   "execution_count": 13,
   "id": "aef9b344",
   "metadata": {},
   "outputs": [
    {
     "name": "stdout",
     "output_type": "stream",
     "text": [
      "K-means clusters     0    1    2    3\n",
      "Real groups                          \n",
      "link                49   14    0    0\n",
      "photo             4063  221    3    1\n",
      "status             287   78    0    0\n",
      "video             1516   77  625  116\n"
     ]
    }
   ],
   "source": [
    "# (f)\n",
    "from sklearn.cluster import KMeans\n",
    "\n",
    "# Perform K-means clustering with K = 4\n",
    "Live_Kmeans4 = KMeans(n_clusters=4, n_init=50, random_state=1000)\n",
    "Live_Kmeans4.fit(Live_scaled)\n",
    "Live_Kmeans4_labels = Live_Kmeans4.labels_\n",
    "\n",
    "# Calculate the matching matrix\n",
    "matching_matrix = pd.crosstab(index=Live['status_type'],\n",
    "                              columns=Live_Kmeans4_labels,\n",
    "                              rownames=['Real groups'],\n",
    "                              colnames=['K-means clusters'])\n",
    "\n",
    "# Display the matching matrix\n",
    "print(matching_matrix)"
   ]
  },
  {
   "cell_type": "markdown",
   "id": "266dcaf5",
   "metadata": {},
   "source": [
    "Cluster 0:\n",
    "Primarily contains photos (4063) and videos (1516), with a smaller number of links (49) and statuses (287).\n",
    "Cluster 1:\n",
    "Primarily consists of photos (221) and videos (77), with some links (14) and statuses (78).\n",
    "Cluster 2:\n",
    "Almost exclusively contains videos (625), suggesting that this cluster may represent some unique characteristics common in videos.\n",
    "Cluster 3:\n",
    "Primarily consists of videos (116), possibly representing a specific kind of video content.\n",
    "\n",
    "Photos predominantly populate most clusters, reflecting that photos might have diverse characteristics leading to their wide distribution.\n",
    "\n",
    "Videos seem to have more specific clusters (2, 3), possibly because videos can vary significantly based on content, length, engagement, etc.\n",
    "\n",
    "Links and statuses are less prevalent across clusters, maybe due to their lesser variability or lower numbers compared to photos and videos.\n",
    "\n",
    "These clusters provide insights into how the content of the Facebook posts is categorized based on people's reactions."
   ]
  },
  {
   "cell_type": "code",
   "execution_count": 16,
   "id": "f8db3887",
   "metadata": {},
   "outputs": [
    {
     "data": {
      "image/png": "[encoded data removed]",
      "text/plain": [
       "<Figure size 640x480 with 1 Axes>"
      ]
     },
     "metadata": {},
     "output_type": "display_data"
    }
   ],
   "source": [
    "# (g)\n",
    "import matplotlib.pyplot as plt\n",
    "\n",
    "distortions = []\n",
    "K = range(1, 15)\n",
    "\n",
    "for k in K:\n",
    "    kmeanModel = KMeans(n_clusters=k, n_init=50, random_state=1000)\n",
    "    kmeanModel.fit(Live_scaled)\n",
    "    distortions.append(kmeanModel.inertia_)\n",
    "\n",
    "# Plot the distortions\n",
    "plt.plot(K, distortions, marker='o')\n",
    "plt.xlabel('Number of Clusters (k)')\n",
    "plt.ylabel('Distortion (Within-cluster variation)')\n",
    "plt.title('Elbow Method for Optimal k')\n",
    "plt.grid()\n",
    "plt.show()"
   ]
  },
  {
   "cell_type": "code",
   "execution_count": 21,
   "id": "c4b7a19d",
   "metadata": {},
   "outputs": [
    {
     "name": "stdout",
     "output_type": "stream",
     "text": [
      "K-means clusters     0    1    2    3   4   5\n",
      "Real groups                                  \n",
      "link                49    9    0    5   0   0\n",
      "photo             3981  168    2  135   1   1\n",
      "status             268   70    0   27   0   0\n",
      "video             1403   98  620   44  76  93\n"
     ]
    }
   ],
   "source": [
    "# (h) \n",
    "# Perform K-means clustering with chosen K\n",
    "Live_Kmeans_optimal = KMeans(n_clusters=6, n_init=50, random_state=1000)\n",
    "Live_Kmeans_optimal.fit(Live_scaled)\n",
    "Live_Kmeans_optimal_labels = Live_Kmeans_optimal.labels_\n",
    "\n",
    "# Calculate the optimal matching matrix\n",
    "matching_matrix_optimal = pd.crosstab(index=Live['status_type'],\n",
    "                              columns=Live_Kmeans_optimal_labels,\n",
    "                              rownames=['Real groups'],\n",
    "                              colnames=['K-means clusters'])\n",
    "\n",
    "# Display the matching matrix\n",
    "print(matching_matrix_optimal)"
   ]
  },
  {
   "cell_type": "markdown",
   "id": "38c9fb24",
   "metadata": {},
   "source": [
    "Cluster 0 Primarily contains photos and videos, with a smaller number of links and statuses.\n",
    "\n",
    "Cluster 1 Primarily consists of photos and videos, with some links and statuses.\n",
    "\n",
    "Cluster 2, Cluster 4 and Cluster 5 are primarily video clusters.\n",
    "\n",
    "Cluster 3 show mixed patterns with different post types, but they are not dominated by any specific type. \n",
    "\n",
    "Photos predominantly populate most clusters, reflecting that photos might have diverse characteristics leading to their wide distribution.\n",
    "\n",
    "Videos seem to have more specific clusters (2, 4, 5), possibly because videos can vary significantly based on content, length, engagement, etc.\n",
    "\n",
    "Links and statuses are less prevalent across clusters, maybe due to their lesser variability or lower numbers compared to photos and videos.\n",
    "\n",
    "These clusters provide insights into how the content of the Facebook posts is categorized based on people's reactions."
   ]
  },
  {
   "cell_type": "markdown",
   "id": "3035e310",
   "metadata": {},
   "source": [
    "## 2.2 Hierarchical clustering"
   ]
  },
  {
   "cell_type": "code",
   "execution_count": 22,
   "id": "e50f0418",
   "metadata": {},
   "outputs": [
    {
     "name": "stdout",
     "output_type": "stream",
     "text": [
      "Clusters        0  1   2  3\n",
      "Real groups                \n",
      "link           63  0   0  0\n",
      "photo        4288  0   0  0\n",
      "status        365  0   0  0\n",
      "video        2264  3  66  1\n"
     ]
    }
   ],
   "source": [
    "# (a)\n",
    "from scipy.cluster.hierarchy import linkage, dendrogram, cut_tree\n",
    "\n",
    "# Perform hierarchical clustering with complete linkage\n",
    "hc_complete = linkage(Live_scaled, \"complete\")\n",
    "\n",
    "# Cut the dendrogram into 4 clusters\n",
    "clusters_4 = cut_tree(hc_complete, n_clusters=4).flatten()\n",
    "\n",
    "# Calculate the matching matrix\n",
    "matching_matrix = pd.crosstab(index=Live[\"status_type\"], columns=clusters_4, rownames=[\"Real groups\"], colnames=[\"Clusters\"])\n",
    "print(matching_matrix)\n"
   ]
  },
  {
   "cell_type": "markdown",
   "id": "21857406",
   "metadata": {},
   "source": [
    "Cluster 0 Primarily contains photos and videos, with a smaller number of links and statuses.\n",
    "\n",
    "Cluster 1 Almost exclusively contains videos (3).\n",
    "\n",
    "Cluster 2 Almost exclusively contains videos (66).\n",
    "\n",
    "Cluster 3 Almost exclusively contains videos (only 1). \n",
    "\n",
    "The hierarchical clustering with complete linkage predominantly places most of the posts into a single cluster (Cluster 0), and only a small portion of the data is assigned to the other clusters.\n",
    "A different approach or further parameter tuning might be necessary to achieve a more meaningful and differentiated clustering of the posts."
   ]
  },
  {
   "cell_type": "code",
   "execution_count": 23,
   "id": "0fd66e43",
   "metadata": {},
   "outputs": [
    {
     "data": {
      "image/png": "[encoded data removed]",
      "text/plain": [
       "<Figure size 2500x1000 with 1 Axes>"
      ]
     },
     "metadata": {},
     "output_type": "display_data"
    }
   ],
   "source": [
    "# (b)Plot the dendrogram\n",
    "\n",
    "plt.figure(figsize=(25, 10))\n",
    "dendrogram(hc_complete, truncate_mode='lastp', p=15)\n",
    "plt.show()"
   ]
  },
  {
   "cell_type": "markdown",
   "id": "4b0cda30",
   "metadata": {},
   "source": [
    "Cutting the dendrogram to form **2 clusters** seems to be a reasonable choice as it corresponds to the highest vertical line without any horizontal line crossing. It divides the data into two substantial groups which could represent a high-level categorization of the data.\n",
    "\n",
    "But if we need a more detailed separation based on the data's inherent characteristics, 3 clusters might be the better choice"
   ]
  },
  {
   "cell_type": "code",
   "execution_count": 30,
   "id": "b7043c03",
   "metadata": {},
   "outputs": [
    {
     "name": "stdout",
     "output_type": "stream",
     "text": [
      "Silhouette coefficient for K-means: 0.7442179164061047\n",
      "Davies-Bouldin index for K-means: 0.7782391243473249\n"
     ]
    }
   ],
   "source": [
    "#(c)\n",
    "from sklearn.metrics import silhouette_score, davies_bouldin_score\n",
    "# K-means\n",
    "# Perform K-means clustering with K = 6\n",
    "kmeans = KMeans(n_clusters=6, init='k-means++', random_state=1000, n_init=10)\n",
    "kmeans_labels = kmeans.fit_predict(Live_scaled)\n",
    "\n",
    "# Calculate Silhouette coefficient and Davies-Bouldin index for K-means clustering\n",
    "silhouette_kmeans = silhouette_score(Live_scaled, kmeans_labels)\n",
    "davies_bouldin_kmeans = davies_bouldin_score(Live_scaled, kmeans_labels)\n",
    "\n",
    "print(\"Silhouette coefficient for K-means:\", silhouette_kmeans)\n",
    "print(\"Davies-Bouldin index for K-means:\", davies_bouldin_kmeans)"
   ]
  },
  {
   "cell_type": "code",
   "execution_count": 25,
   "id": "b11dd857",
   "metadata": {},
   "outputs": [
    {
     "name": "stdout",
     "output_type": "stream",
     "text": [
      "Silhouette coefficient for Hierarchical clustering: 0.7755612208382886\n",
      "Davies-Bouldin index for Hierarchical clustering: 0.5632304993166416\n"
     ]
    }
   ],
   "source": [
    "# Hierarchical clustering\n",
    "# Perform hierarchical clustering with K = 6\n",
    "hc = linkage(Live_scaled, method='complete')\n",
    "hc_labels = cut_tree(hc, n_clusters=6).flatten()\n",
    "\n",
    "# Calculate Silhouette coefficient and Davies-Bouldin index for hierarchical clustering\n",
    "silhouette_hc = silhouette_score(Live_scaled, hc_labels)\n",
    "davies_bouldin_hc = davies_bouldin_score(Live_scaled, hc_labels)\n",
    "\n",
    "print(\"Silhouette coefficient for Hierarchical clustering:\", silhouette_hc)\n",
    "print(\"Davies-Bouldin index for Hierarchical clustering:\", davies_bouldin_hc)"
   ]
  },
  {
   "cell_type": "markdown",
   "id": "33d8077a",
   "metadata": {},
   "source": [
    "**1. Silhouette Coefficient:**\n",
    "**K-means:** \n",
    "0.7442\n",
    "\n",
    "**Hierarchical clustering:**\n",
    "0.7756\n",
    "\n",
    "A higher Silhouette Coefficient indicates that the object is well matched to its own cluster and poorly matched to neighboring clusters. Since the Silhouette Coefficient for Hierarchical clustering is higher, it suggests that the data points are closer to the centroid of their assigned clusters and farther away from other clusters compared to K-means.\n",
    "\n",
    "**2. Davies-Bouldin Index:**\n",
    "\n",
    "**K-means:**\n",
    "0.7782\n",
    "\n",
    "**Hierarchical clustering:** \n",
    "0.5632\n",
    "\n",
    "A lower Davies-Bouldin index relates to a model with better separation between the clusters. Hierarchical clustering has a lower Davies-Bouldin index, indicating a better separation of clusters compared to K-means.\n",
    "\n",
    "Hierarchical clustering appears to perform better than K-means for K=6 based on the evaluation metrics. Hierarchical clustering has a higher Silhouette Coefficient and a lower Davies-Bouldin Index, indicating better-defined clusters with this method for the given data. This suggests that the hierarchical method might be capturing the underlying structures in the data more effectively than the K-means in this case."
   ]
  }
 ],
 "metadata": {
  "kernelspec": {
   "display_name": "Python 3 (ipykernel)",
   "language": "python",
   "name": "python3"
  },
  "language_info": {
   "codemirror_mode": {
    "name": "ipython",
    "version": 3
   },
   "file_extension": ".py",
   "mimetype": "text/x-python",
   "name": "python",
   "nbconvert_exporter": "python",
   "pygments_lexer": "ipython3",
   "version": "3.10.9"
  }
 },
 "nbformat": 4,
 "nbformat_minor": 5
}
