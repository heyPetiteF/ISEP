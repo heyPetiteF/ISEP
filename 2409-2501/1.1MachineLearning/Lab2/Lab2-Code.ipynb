{
 "cells": [
  {
   "cell_type": "markdown",
   "id": "b2a238ef",
   "metadata": {},
   "source": [
    "2.1 The data set description"
   ]
  },
  {
   "cell_type": "code",
   "execution_count": null,
   "id": "a72bb8d1",
   "metadata": {},
   "outputs": [],
   "source": [
    "#1.\n",
    "import pandas as pd\n",
    "bankrupt = pd.read_csv(\"D:/study/A3/ML_lab2/bankrupt.txt\" , sep=\",\")\n",
    "print(bankrupt)"
   ]
  },
  {
   "cell_type": "code",
   "execution_count": 23,
   "id": "e98d1fdf",
   "metadata": {},
   "outputs": [
    {
     "name": "stdout",
     "output_type": "stream",
     "text": [
      "Number of observations: 6819\n",
      "Number of variables: 96\n"
     ]
    }
   ],
   "source": [
    "#2.observations and variables\n",
    "num_observations, num_variables = bankrupt.shape\n",
    "print(\"Number of observations:\", num_observations)\n",
    "print(\"Number of variables:\", num_variables)"
   ]
  },
  {
   "cell_type": "code",
   "execution_count": 24,
   "id": "b564667e",
   "metadata": {},
   "outputs": [
    {
     "data": {
      "text/html": [
       "<div>\n",
       "<style scoped>\n",
       "    .dataframe tbody tr th:only-of-type {\n",
       "        vertical-align: middle;\n",
       "    }\n",
       "\n",
       "    .dataframe tbody tr th {\n",
       "        vertical-align: top;\n",
       "    }\n",
       "\n",
       "    .dataframe thead th {\n",
       "        text-align: right;\n",
       "    }\n",
       "</style>\n",
       "<table border=\"1\" class=\"dataframe\">\n",
       "  <thead>\n",
       "    <tr style=\"text-align: right;\">\n",
       "      <th></th>\n",
       "      <th>Bankrupt?</th>\n",
       "      <th>ROA(C) before interest and depreciation before interest</th>\n",
       "      <th>ROA(A) before interest and % after tax</th>\n",
       "      <th>ROA(B) before interest and depreciation after tax</th>\n",
       "      <th>Operating Gross Margin</th>\n",
       "      <th>Realized Sales Gross Margin</th>\n",
       "      <th>Operating Profit Rate</th>\n",
       "      <th>Pre-tax net Interest Rate</th>\n",
       "      <th>After-tax net Interest Rate</th>\n",
       "      <th>Non-industry income and expenditure/revenue</th>\n",
       "      <th>...</th>\n",
       "      <th>Net Income to Total Assets</th>\n",
       "      <th>Total assets to GNP price</th>\n",
       "      <th>No-credit Interval</th>\n",
       "      <th>Gross Profit to Sales</th>\n",
       "      <th>Net Income to Stockholder s Equity</th>\n",
       "      <th>Liability to Equity</th>\n",
       "      <th>Degree of Financial Leverage (DFL)</th>\n",
       "      <th>Interest Coverage Ratio (Interest expense to EBIT)</th>\n",
       "      <th>Net Income Flag</th>\n",
       "      <th>Equity to Liability</th>\n",
       "    </tr>\n",
       "  </thead>\n",
       "  <tbody>\n",
       "    <tr>\n",
       "      <th>count</th>\n",
       "      <td>6819.000000</td>\n",
       "      <td>6819.000000</td>\n",
       "      <td>6819.000000</td>\n",
       "      <td>6819.000000</td>\n",
       "      <td>6819.000000</td>\n",
       "      <td>6819.000000</td>\n",
       "      <td>6819.000000</td>\n",
       "      <td>6819.000000</td>\n",
       "      <td>6819.000000</td>\n",
       "      <td>6819.000000</td>\n",
       "      <td>...</td>\n",
       "      <td>6819.000000</td>\n",
       "      <td>6.819000e+03</td>\n",
       "      <td>6819.000000</td>\n",
       "      <td>6819.000000</td>\n",
       "      <td>6819.000000</td>\n",
       "      <td>6819.000000</td>\n",
       "      <td>6819.000000</td>\n",
       "      <td>6819.000000</td>\n",
       "      <td>6819.0</td>\n",
       "      <td>6819.000000</td>\n",
       "    </tr>\n",
       "    <tr>\n",
       "      <th>mean</th>\n",
       "      <td>0.032263</td>\n",
       "      <td>0.505180</td>\n",
       "      <td>0.558625</td>\n",
       "      <td>0.553589</td>\n",
       "      <td>0.607948</td>\n",
       "      <td>0.607929</td>\n",
       "      <td>0.998755</td>\n",
       "      <td>0.797190</td>\n",
       "      <td>0.809084</td>\n",
       "      <td>0.303623</td>\n",
       "      <td>...</td>\n",
       "      <td>0.807760</td>\n",
       "      <td>1.862942e+07</td>\n",
       "      <td>0.623915</td>\n",
       "      <td>0.607946</td>\n",
       "      <td>0.840402</td>\n",
       "      <td>0.280365</td>\n",
       "      <td>0.027541</td>\n",
       "      <td>0.565358</td>\n",
       "      <td>1.0</td>\n",
       "      <td>0.047578</td>\n",
       "    </tr>\n",
       "    <tr>\n",
       "      <th>std</th>\n",
       "      <td>0.176710</td>\n",
       "      <td>0.060686</td>\n",
       "      <td>0.065620</td>\n",
       "      <td>0.061595</td>\n",
       "      <td>0.016934</td>\n",
       "      <td>0.016916</td>\n",
       "      <td>0.013010</td>\n",
       "      <td>0.012869</td>\n",
       "      <td>0.013601</td>\n",
       "      <td>0.011163</td>\n",
       "      <td>...</td>\n",
       "      <td>0.040332</td>\n",
       "      <td>3.764501e+08</td>\n",
       "      <td>0.012290</td>\n",
       "      <td>0.016934</td>\n",
       "      <td>0.014523</td>\n",
       "      <td>0.014463</td>\n",
       "      <td>0.015668</td>\n",
       "      <td>0.013214</td>\n",
       "      <td>0.0</td>\n",
       "      <td>0.050014</td>\n",
       "    </tr>\n",
       "    <tr>\n",
       "      <th>min</th>\n",
       "      <td>0.000000</td>\n",
       "      <td>0.000000</td>\n",
       "      <td>0.000000</td>\n",
       "      <td>0.000000</td>\n",
       "      <td>0.000000</td>\n",
       "      <td>0.000000</td>\n",
       "      <td>0.000000</td>\n",
       "      <td>0.000000</td>\n",
       "      <td>0.000000</td>\n",
       "      <td>0.000000</td>\n",
       "      <td>...</td>\n",
       "      <td>0.000000</td>\n",
       "      <td>0.000000e+00</td>\n",
       "      <td>0.000000</td>\n",
       "      <td>0.000000</td>\n",
       "      <td>0.000000</td>\n",
       "      <td>0.000000</td>\n",
       "      <td>0.000000</td>\n",
       "      <td>0.000000</td>\n",
       "      <td>1.0</td>\n",
       "      <td>0.000000</td>\n",
       "    </tr>\n",
       "    <tr>\n",
       "      <th>25%</th>\n",
       "      <td>0.000000</td>\n",
       "      <td>0.476527</td>\n",
       "      <td>0.535543</td>\n",
       "      <td>0.527277</td>\n",
       "      <td>0.600445</td>\n",
       "      <td>0.600434</td>\n",
       "      <td>0.998969</td>\n",
       "      <td>0.797386</td>\n",
       "      <td>0.809312</td>\n",
       "      <td>0.303466</td>\n",
       "      <td>...</td>\n",
       "      <td>0.796750</td>\n",
       "      <td>9.036205e-04</td>\n",
       "      <td>0.623636</td>\n",
       "      <td>0.600443</td>\n",
       "      <td>0.840115</td>\n",
       "      <td>0.276944</td>\n",
       "      <td>0.026791</td>\n",
       "      <td>0.565158</td>\n",
       "      <td>1.0</td>\n",
       "      <td>0.024477</td>\n",
       "    </tr>\n",
       "    <tr>\n",
       "      <th>50%</th>\n",
       "      <td>0.000000</td>\n",
       "      <td>0.502706</td>\n",
       "      <td>0.559802</td>\n",
       "      <td>0.552278</td>\n",
       "      <td>0.605997</td>\n",
       "      <td>0.605976</td>\n",
       "      <td>0.999022</td>\n",
       "      <td>0.797464</td>\n",
       "      <td>0.809375</td>\n",
       "      <td>0.303525</td>\n",
       "      <td>...</td>\n",
       "      <td>0.810619</td>\n",
       "      <td>2.085213e-03</td>\n",
       "      <td>0.623879</td>\n",
       "      <td>0.605998</td>\n",
       "      <td>0.841179</td>\n",
       "      <td>0.278778</td>\n",
       "      <td>0.026808</td>\n",
       "      <td>0.565252</td>\n",
       "      <td>1.0</td>\n",
       "      <td>0.033798</td>\n",
       "    </tr>\n",
       "    <tr>\n",
       "      <th>75%</th>\n",
       "      <td>0.000000</td>\n",
       "      <td>0.535563</td>\n",
       "      <td>0.589157</td>\n",
       "      <td>0.584105</td>\n",
       "      <td>0.613914</td>\n",
       "      <td>0.613842</td>\n",
       "      <td>0.999095</td>\n",
       "      <td>0.797579</td>\n",
       "      <td>0.809469</td>\n",
       "      <td>0.303585</td>\n",
       "      <td>...</td>\n",
       "      <td>0.826455</td>\n",
       "      <td>5.269777e-03</td>\n",
       "      <td>0.624168</td>\n",
       "      <td>0.613913</td>\n",
       "      <td>0.842357</td>\n",
       "      <td>0.281449</td>\n",
       "      <td>0.026913</td>\n",
       "      <td>0.565725</td>\n",
       "      <td>1.0</td>\n",
       "      <td>0.052838</td>\n",
       "    </tr>\n",
       "    <tr>\n",
       "      <th>max</th>\n",
       "      <td>1.000000</td>\n",
       "      <td>1.000000</td>\n",
       "      <td>1.000000</td>\n",
       "      <td>1.000000</td>\n",
       "      <td>1.000000</td>\n",
       "      <td>1.000000</td>\n",
       "      <td>1.000000</td>\n",
       "      <td>1.000000</td>\n",
       "      <td>1.000000</td>\n",
       "      <td>1.000000</td>\n",
       "      <td>...</td>\n",
       "      <td>1.000000</td>\n",
       "      <td>9.820000e+09</td>\n",
       "      <td>1.000000</td>\n",
       "      <td>1.000000</td>\n",
       "      <td>1.000000</td>\n",
       "      <td>1.000000</td>\n",
       "      <td>1.000000</td>\n",
       "      <td>1.000000</td>\n",
       "      <td>1.0</td>\n",
       "      <td>1.000000</td>\n",
       "    </tr>\n",
       "  </tbody>\n",
       "</table>\n",
       "<p>8 rows × 96 columns</p>\n",
       "</div>"
      ],
      "text/plain": [
       "         Bankrupt?   ROA(C) before interest and depreciation before interest  \\\n",
       "count  6819.000000                                        6819.000000          \n",
       "mean      0.032263                                           0.505180          \n",
       "std       0.176710                                           0.060686          \n",
       "min       0.000000                                           0.000000          \n",
       "25%       0.000000                                           0.476527          \n",
       "50%       0.000000                                           0.502706          \n",
       "75%       0.000000                                           0.535563          \n",
       "max       1.000000                                           1.000000          \n",
       "\n",
       "        ROA(A) before interest and % after tax  \\\n",
       "count                              6819.000000   \n",
       "mean                                  0.558625   \n",
       "std                                   0.065620   \n",
       "min                                   0.000000   \n",
       "25%                                   0.535543   \n",
       "50%                                   0.559802   \n",
       "75%                                   0.589157   \n",
       "max                                   1.000000   \n",
       "\n",
       "        ROA(B) before interest and depreciation after tax  \\\n",
       "count                                        6819.000000    \n",
       "mean                                            0.553589    \n",
       "std                                             0.061595    \n",
       "min                                             0.000000    \n",
       "25%                                             0.527277    \n",
       "50%                                             0.552278    \n",
       "75%                                             0.584105    \n",
       "max                                             1.000000    \n",
       "\n",
       "        Operating Gross Margin   Realized Sales Gross Margin  \\\n",
       "count              6819.000000                   6819.000000   \n",
       "mean                  0.607948                      0.607929   \n",
       "std                   0.016934                      0.016916   \n",
       "min                   0.000000                      0.000000   \n",
       "25%                   0.600445                      0.600434   \n",
       "50%                   0.605997                      0.605976   \n",
       "75%                   0.613914                      0.613842   \n",
       "max                   1.000000                      1.000000   \n",
       "\n",
       "        Operating Profit Rate   Pre-tax net Interest Rate  \\\n",
       "count             6819.000000                 6819.000000   \n",
       "mean                 0.998755                    0.797190   \n",
       "std                  0.013010                    0.012869   \n",
       "min                  0.000000                    0.000000   \n",
       "25%                  0.998969                    0.797386   \n",
       "50%                  0.999022                    0.797464   \n",
       "75%                  0.999095                    0.797579   \n",
       "max                  1.000000                    1.000000   \n",
       "\n",
       "        After-tax net Interest Rate  \\\n",
       "count                   6819.000000   \n",
       "mean                       0.809084   \n",
       "std                        0.013601   \n",
       "min                        0.000000   \n",
       "25%                        0.809312   \n",
       "50%                        0.809375   \n",
       "75%                        0.809469   \n",
       "max                        1.000000   \n",
       "\n",
       "        Non-industry income and expenditure/revenue  ...  \\\n",
       "count                                   6819.000000  ...   \n",
       "mean                                       0.303623  ...   \n",
       "std                                        0.011163  ...   \n",
       "min                                        0.000000  ...   \n",
       "25%                                        0.303466  ...   \n",
       "50%                                        0.303525  ...   \n",
       "75%                                        0.303585  ...   \n",
       "max                                        1.000000  ...   \n",
       "\n",
       "        Net Income to Total Assets   Total assets to GNP price  \\\n",
       "count                  6819.000000                6.819000e+03   \n",
       "mean                      0.807760                1.862942e+07   \n",
       "std                       0.040332                3.764501e+08   \n",
       "min                       0.000000                0.000000e+00   \n",
       "25%                       0.796750                9.036205e-04   \n",
       "50%                       0.810619                2.085213e-03   \n",
       "75%                       0.826455                5.269777e-03   \n",
       "max                       1.000000                9.820000e+09   \n",
       "\n",
       "        No-credit Interval   Gross Profit to Sales  \\\n",
       "count          6819.000000             6819.000000   \n",
       "mean              0.623915                0.607946   \n",
       "std               0.012290                0.016934   \n",
       "min               0.000000                0.000000   \n",
       "25%               0.623636                0.600443   \n",
       "50%               0.623879                0.605998   \n",
       "75%               0.624168                0.613913   \n",
       "max               1.000000                1.000000   \n",
       "\n",
       "        Net Income to Stockholder s Equity   Liability to Equity  \\\n",
       "count                          6819.000000           6819.000000   \n",
       "mean                              0.840402              0.280365   \n",
       "std                               0.014523              0.014463   \n",
       "min                               0.000000              0.000000   \n",
       "25%                               0.840115              0.276944   \n",
       "50%                               0.841179              0.278778   \n",
       "75%                               0.842357              0.281449   \n",
       "max                               1.000000              1.000000   \n",
       "\n",
       "        Degree of Financial Leverage (DFL)  \\\n",
       "count                          6819.000000   \n",
       "mean                              0.027541   \n",
       "std                               0.015668   \n",
       "min                               0.000000   \n",
       "25%                               0.026791   \n",
       "50%                               0.026808   \n",
       "75%                               0.026913   \n",
       "max                               1.000000   \n",
       "\n",
       "        Interest Coverage Ratio (Interest expense to EBIT)   Net Income Flag  \\\n",
       "count                                        6819.000000              6819.0   \n",
       "mean                                            0.565358                 1.0   \n",
       "std                                             0.013214                 0.0   \n",
       "min                                             0.000000                 1.0   \n",
       "25%                                             0.565158                 1.0   \n",
       "50%                                             0.565252                 1.0   \n",
       "75%                                             0.565725                 1.0   \n",
       "max                                             1.000000                 1.0   \n",
       "\n",
       "        Equity to Liability  \n",
       "count           6819.000000  \n",
       "mean               0.047578  \n",
       "std                0.050014  \n",
       "min                0.000000  \n",
       "25%                0.024477  \n",
       "50%                0.033798  \n",
       "75%                0.052838  \n",
       "max                1.000000  \n",
       "\n",
       "[8 rows x 96 columns]"
      ]
     },
     "execution_count": 24,
     "metadata": {},
     "output_type": "execute_result"
    }
   ],
   "source": [
    "#3.\n",
    "bankrupt.describe()"
   ]
  },
  {
   "cell_type": "code",
   "execution_count": 25,
   "id": "3f5065ba",
   "metadata": {},
   "outputs": [
    {
     "name": "stdout",
     "output_type": "stream",
     "text": [
      "Number of companies that went bankrupt: 220\n",
      "Number of companies that did not go bankrupt: 6599\n",
      "Percentage of companies that went bankrupt: 3.2262795131250916 %\n",
      "Percentage of companies that did not go bankrupt: 96.77372048687491 %\n"
     ]
    }
   ],
   "source": [
    "#4.Bankrupt number and percentage\n",
    "target_variable = \"Bankrupt?\"\n",
    "bankrupt_counts = bankrupt[target_variable].value_counts()\n",
    "num_bankrupt = bankrupt_counts[1]\n",
    "num_not_bankrupt = bankrupt_counts[0]\n",
    "\n",
    "percentage_bankrupt = (num_bankrupt / num_observations) * 100\n",
    "percentage_not_bankrupt = (num_not_bankrupt / num_observations) * 100\n",
    "\n",
    "print(\"Number of companies that went bankrupt:\", num_bankrupt)\n",
    "print(\"Number of companies that did not go bankrupt:\", num_not_bankrupt)\n",
    "print(\"Percentage of companies that went bankrupt:\", percentage_bankrupt, \"%\")\n",
    "\n",
    "print(\"Percentage of companies that did not go bankrupt:\", percentage_not_bankrupt, \"%\")\n"
   ]
  },
  {
   "cell_type": "code",
   "execution_count": 26,
   "id": "4e4ae67b",
   "metadata": {},
   "outputs": [],
   "source": [
    "#5.\n",
    "from sklearn.preprocessing import StandardScaler\n",
    "\n",
    "# Import the data sets\n",
    "x_train = pd.read_csv(\"D:/study/A3/ML_lab2/x_train.csv\", index_col=0)\n",
    "x_test = pd.read_csv(\"D:/study/A3/ML_lab2/x_test.csv\", index_col=0)\n",
    "y_train = pd.read_csv(\"D:/study/A3/ML_lab2/y_train.csv\", index_col=0)\n",
    "y_test = pd.read_csv(\"D:/study/A3/ML_lab2/y_test.csv\", index_col=0)"
   ]
  },
  {
   "cell_type": "code",
   "execution_count": 27,
   "id": "2169107a",
   "metadata": {},
   "outputs": [
    {
     "name": "stdout",
     "output_type": "stream",
     "text": [
      "Number of observations in x_train: 5455\n",
      "Number of observations in x_test: 1364\n"
     ]
    }
   ],
   "source": [
    "num_observations_train = x_train.shape[0]\n",
    "num_observations_test = x_test.shape[0]\n",
    "\n",
    "print(\"Number of observations in x_train:\", num_observations_train)\n",
    "print(\"Number of observations in x_test:\", num_observations_test)"
   ]
  },
  {
   "cell_type": "code",
   "execution_count": 28,
   "id": "4538a9a0",
   "metadata": {},
   "outputs": [
    {
     "name": "stdout",
     "output_type": "stream",
     "text": [
      "Class distribution in y_train:\n",
      "0    5281\n",
      "1     174\n",
      "Name: Bankrupt, dtype: int64\n",
      "Class distribution in y_test:\n",
      "0    1318\n",
      "1      46\n",
      "Name: Bankrupt, dtype: int64\n"
     ]
    }
   ],
   "source": [
    "class_distribution_train = y_train['Bankrupt'].value_counts()\n",
    "class_distribution_test = y_test['Bankrupt'].value_counts()\n",
    "\n",
    "print(\"Class distribution in y_train:\")\n",
    "print(class_distribution_train)\n",
    "\n",
    "print(\"Class distribution in y_test:\")\n",
    "print(class_distribution_test)"
   ]
  },
  {
   "cell_type": "code",
   "execution_count": 32,
   "id": "7b1b5c28",
   "metadata": {},
   "outputs": [],
   "source": [
    "scaler = StandardScaler()\n",
    "\n",
    "# Fit and transform the training data\n",
    "x_train_standardized = scaler.fit_transform(x_train)\n",
    "\n",
    "# Transform the test data using the same scaler\n",
    "x_test_standardized = scaler.transform(x_test)\n",
    "\n",
    "# Create new DataFrames with standardized data\n",
    "x_train_standardized = pd.DataFrame(x_train_standardized, columns=x_train.columns)\n",
    "x_test_standardized = pd.DataFrame(x_test_standardized, columns=x_test.columns)\n",
    "\n",
    "# Verify the lengths of the new DataFrames\n",
    "assert x_train_standardized.shape == x_train.shape\n",
    "assert x_test_standardized.shape == x_test.shape\n"
   ]
  },
  {
   "cell_type": "markdown",
   "id": "41dd390a",
   "metadata": {},
   "source": [
    "2.2 Logistic regression"
   ]
  },
  {
   "cell_type": "code",
   "execution_count": 40,
   "id": "1e06ad5e",
   "metadata": {},
   "outputs": [],
   "source": [
    "import statsmodels.api as sm\n",
    "import statsmodels.formula.api as smf\n",
    "from sklearn.metrics import confusion_matrix, classification_report"
   ]
  },
  {
   "cell_type": "code",
   "execution_count": 36,
   "id": "69432d92",
   "metadata": {},
   "outputs": [],
   "source": [
    "#1.\n",
    "# Merge x_train and y_train dataframes\n",
    "bankrupt_train = pd.concat([x_train, y_train], axis=1)\n",
    "\n",
    "# Define the formula for logistic regression\n",
    "formula = 'Bankrupt ~ ROAC + ROAA + ROAB + TRA + TAGR + DR + WKTA + CTA + CLA + CFOA + CLCA + NITA'\n",
    "\n",
    "# Fit the logistic regression model\n",
    "model = smf.glm(formula=formula, data=bankrupt_train, family=sm.families.Binomial())\n",
    "logreg = model.fit()"
   ]
  },
  {
   "cell_type": "code",
   "execution_count": 37,
   "id": "f83ff274",
   "metadata": {},
   "outputs": [
    {
     "name": "stdout",
     "output_type": "stream",
     "text": [
      "                 Generalized Linear Model Regression Results                  \n",
      "==============================================================================\n",
      "Dep. Variable:               Bankrupt   No. Observations:                 5455\n",
      "Model:                            GLM   Df Residuals:                     5443\n",
      "Model Family:                Binomial   Df Model:                           11\n",
      "Link Function:                  Logit   Scale:                          1.0000\n",
      "Method:                          IRLS   Log-Likelihood:                -513.79\n",
      "Date:                Thu, 12 Oct 2023   Deviance:                       1027.6\n",
      "Time:                        15:36:22   Pearson chi2:                 4.44e+06\n",
      "No. Iterations:                    10   Pseudo R-squ. (CS):            0.08988\n",
      "Covariance Type:            nonrobust                                         \n",
      "==============================================================================\n",
      "                 coef    std err          z      P>|z|      [0.025      0.975]\n",
      "------------------------------------------------------------------------------\n",
      "Intercept      6.0644      3.655      1.659      0.097      -1.099      13.228\n",
      "ROAC         -11.3247      7.788     -1.454      0.146     -26.589       3.940\n",
      "ROAA          -1.5478      6.154     -0.252      0.801     -13.609      10.513\n",
      "ROAB          -3.5475      8.761     -0.405      0.686     -20.718      13.623\n",
      "TRA           -1.7574      0.973     -1.807      0.071      -3.664       0.149\n",
      "TAGR        3.738e-11   3.79e-11      0.985      0.324    -3.7e-11    1.12e-10\n",
      "DR            20.5210      2.743      7.480      0.000      15.144      25.898\n",
      "WKTA          -4.9171      2.429     -2.024      0.043      -9.678      -0.156\n",
      "CTA           -6.7206      1.708     -3.934      0.000     -10.068      -3.373\n",
      "CLA           -6.6835      2.378     -2.810      0.005     -11.345      -2.022\n",
      "CFOA           2.7174      1.772      1.534      0.125      -0.755       6.190\n",
      "CLCA           0.5781      2.178      0.265      0.791      -3.690       4.847\n",
      "NITA          -1.3517      6.213     -0.218      0.828     -13.529      10.825\n",
      "==============================================================================\n"
     ]
    }
   ],
   "source": [
    "print(logreg.summary())"
   ]
  },
  {
   "cell_type": "code",
   "execution_count": 38,
   "id": "facb707a",
   "metadata": {},
   "outputs": [
    {
     "name": "stdout",
     "output_type": "stream",
     "text": [
      "1524    0.018523\n",
      "2819    0.011718\n",
      "1957    0.003200\n",
      "5020    0.000507\n",
      "4443    0.010251\n",
      "          ...   \n",
      "4931    0.035072\n",
      "3264    0.000354\n",
      "1653    0.002176\n",
      "2607    0.001122\n",
      "2732    0.001647\n",
      "Length: 5455, dtype: float64\n"
     ]
    }
   ],
   "source": [
    "#2.\n",
    "print(logreg.fittedvalues) "
   ]
  },
  {
   "cell_type": "code",
   "execution_count": 41,
   "id": "8ff569ae",
   "metadata": {},
   "outputs": [
    {
     "name": "stdout",
     "output_type": "stream",
     "text": [
      "Confusion Matrix:\n",
      "[[5266  143]\n",
      " [  15   31]]\n",
      "Classification Report:\n",
      "              precision    recall  f1-score   support\n",
      "\n",
      "           0      0.997     0.974     0.985      5409\n",
      "           1      0.178     0.674     0.282        46\n",
      "\n",
      "    accuracy                          0.971      5455\n",
      "   macro avg      0.588     0.824     0.634      5455\n",
      "weighted avg      0.990     0.971     0.979      5455\n",
      "\n"
     ]
    }
   ],
   "source": [
    "#  Convert these probabilities into classes labels\n",
    "yhat_logreg_probs = logreg.fittedvalues\n",
    "yhat = [1 if x > 0.5 else 0 for x in yhat_logreg_probs]\n",
    "\n",
    "# Compute the confusion matrix and obtain a report of performance metrics\n",
    "confusion = confusion_matrix(yhat, y_train)\n",
    "report = classification_report(yhat, y_train, digits=3)\n",
    "\n",
    "print(\"Confusion Matrix:\")\n",
    "print(confusion)\n",
    "print(\"Classification Report:\")\n",
    "print(report)"
   ]
  },
  {
   "cell_type": "markdown",
   "id": "a7d62c83",
   "metadata": {},
   "source": [
    "The model has high accuracy, precision, and recall for the majority class (non-bankrupt), but its performance for the minority class (bankrupt) is relatively lower. It correctly identifies most non-bankrupt cases but has difficulty correctly classifying bankrupt cases. The F1-Score for the bankrupt class is notably lower, indicating a trade-off between precision and recall."
   ]
  },
  {
   "cell_type": "code",
   "execution_count": 42,
   "id": "4eb6701c",
   "metadata": {},
   "outputs": [
    {
     "name": "stdout",
     "output_type": "stream",
     "text": [
      "Confusion Matrix (Test Set):\n",
      "[[1306   39]\n",
      " [  12    7]]\n",
      "Classification Report (Test Set):\n",
      "              precision    recall  f1-score   support\n",
      "\n",
      "           0      0.991     0.971     0.981      1345\n",
      "           1      0.152     0.368     0.215        19\n",
      "\n",
      "    accuracy                          0.963      1364\n",
      "   macro avg      0.572     0.670     0.598      1364\n",
      "weighted avg      0.979     0.963     0.970      1364\n",
      "\n"
     ]
    }
   ],
   "source": [
    "#3.\n",
    "# Convert probabilities into classes labels and compute confusion matrix  for test set\n",
    "yhat_test_logreg_probs = logreg.predict(x_test)\n",
    "yhat_test = [1 if x > 0.5 else 0 for x in yhat_test_logreg_probs]\n",
    "\n",
    "confusion_test = confusion_matrix(yhat_test, y_test)\n",
    "report_test = classification_report(yhat_test, y_test, digits=3)\n",
    "\n",
    "print(\"Confusion Matrix (Test Set):\")\n",
    "print(confusion_test)\n",
    "print(\"Classification Report (Test Set):\")\n",
    "print(report_test)"
   ]
  },
  {
   "cell_type": "markdown",
   "id": "e39c9e68",
   "metadata": {},
   "source": [
    "Considering these results of test set, it is clear that overall accuracy (96.3%) can be misleading in this imbalanced dataset. The model achieves high accuracy primarily because it correctly classifies the majority class (non-bankrupt) but performs poorly on the minority class (bankrupt). The low precision and recall for the bankrupt class, as well as the low F1-Score, indicate that the model's performance in identifying bankrupt companies is not satisfactory.\n",
    "\n",
    "In an imbalanced dataset, it's more appropriate to focus on precision, recall, and the F1-Score, especially for the minority class, as these metrics provide a better assessment of the model's effectiveness in correctly identifying the positive class (bankrupt). Additionally, considering other techniques such as changing the decision threshold, or using different algorithms might be necessary to improve the model's performance in imbalanced scenarios."
   ]
  },
  {
   "cell_type": "markdown",
   "id": "304b2398",
   "metadata": {},
   "source": [
    "2.3 K-Nearest Neighbors"
   ]
  },
  {
   "cell_type": "code",
   "execution_count": 71,
   "id": "e5914058",
   "metadata": {},
   "outputs": [],
   "source": [
    "#1.\n",
    "from sklearn.neighbors import KNeighborsClassifier\n",
    "import numpy as np\n",
    "from sklearn.metrics import balanced_accuracy_score"
   ]
  },
  {
   "cell_type": "code",
   "execution_count": 72,
   "id": "31827ca3",
   "metadata": {},
   "outputs": [
    {
     "name": "stdout",
     "output_type": "stream",
     "text": [
      "Best K value: 1\n",
      "Best Balanced Accuracy: 0.5534571485122386\n"
     ]
    }
   ],
   "source": [
    "# Initialize\n",
    "best_k = 1 \n",
    "best_balanced_accuracy = 0\n",
    "# Calculate the balanced accuracy and choose the best k ranging from 1 to 20\n",
    "for k in range(1, 21):\n",
    "    # Create a KNN classifier with the current K value\n",
    "    knn = KNeighborsClassifier(n_neighbors=k)\n",
    "    \n",
    "    # Fit the model on the training data\n",
    "    knn.fit(x_train, np.ravel(y_train))\n",
    "    \n",
    "    # Make predictions on the test data\n",
    "    yhat_knn = knn.predict(x_test)\n",
    "    \n",
    "    # Calculate balanced accuracy\n",
    "    balanced_acc = balanced_accuracy_score(y_test, yhat_knn)\n",
    "    \n",
    "    # Check if this K value results in higher balanced accuracy\n",
    "    if balanced_acc > best_balanced_accuracy:\n",
    "        best_k = k\n",
    "        best_balanced_accuracy = balanced_acc\n",
    "\n",
    "print(\"Best K value:\", best_k)\n",
    "print(\"Best Balanced Accuracy:\", best_balanced_accuracy)\n"
   ]
  },
  {
   "cell_type": "code",
   "execution_count": 73,
   "id": "854f666c",
   "metadata": {},
   "outputs": [
    {
     "name": "stdout",
     "output_type": "stream",
     "text": [
      "Confusion Matrix (Best KNN Model):\n",
      "[[1287   31]\n",
      " [  40    6]]\n",
      "Classification Report (Best KNN Model):\n",
      "              precision    recall  f1-score   support\n",
      "\n",
      "           0      0.970     0.976     0.973      1318\n",
      "           1      0.162     0.130     0.145        46\n",
      "\n",
      "    accuracy                          0.948      1364\n",
      "   macro avg      0.566     0.553     0.559      1364\n",
      "weighted avg      0.943     0.948     0.945      1364\n",
      "\n"
     ]
    }
   ],
   "source": [
    "# Fit a KNN model with the best K and make predictions \n",
    "n_neighbors = 1\n",
    "knn = KNeighborsClassifier(n_neighbors=n_neighbors)\n",
    "knn.fit(x_train, np.ravel(y_train))\n",
    "yhat_knn = knn.predict(x_test)\n",
    "\n",
    "# Calculate performance metrics\n",
    "confusion_best_knn = confusion_matrix(y_test, yhat_knn)\n",
    "report_best_knn = classification_report(y_test, yhat_knn, digits=3)\n",
    "\n",
    "print(\"Confusion Matrix (Best KNN Model):\")\n",
    "print(confusion_best_knn)\n",
    "print(\"Classification Report (Best KNN Model):\")\n",
    "print(report_best_knn)"
   ]
  },
  {
   "cell_type": "markdown",
   "id": "0f8a61a1",
   "metadata": {},
   "source": [
    "The best KNN model demonstrates reasonably high overall accuracy, but it faces challenges in correctly classifying the minority class (bankrupt). The model's performance for the bankrupt class is not satisfactory, and further improvements may be necessary, such as adjusting the classification threshold, exploring different algorithms like the previous. "
   ]
  },
  {
   "cell_type": "markdown",
   "id": "467fd057",
   "metadata": {},
   "source": [
    "2.4 Discriminant Analysis"
   ]
  },
  {
   "cell_type": "markdown",
   "id": "d7e21701",
   "metadata": {},
   "source": [
    "1.Interpret the Prior Probabilities and Group Means:\n",
    "\n",
    "Prior Probabilities (π0 and π1): These represent the probabilities of belonging to each class. In binary classification, π0 is the prior probability of being in class 0 (non-bankrupt), and π1 is the prior probability of being in class 1 (bankrupt). These values are based on the proportions of each class in the training data. They give us an idea of the class distribution.\n",
    "\n",
    "Group Means: The group means represent the mean values of each predictor variable (features) for each class. In the order they were given, they provide insights into how the predictor variables differ between the two classes. They help identify which predictors have significant differences between the classes."
   ]
  },
  {
   "cell_type": "code",
   "execution_count": 74,
   "id": "e8d54d32",
   "metadata": {},
   "outputs": [
    {
     "name": "stdout",
     "output_type": "stream",
     "text": [
      "Prior probabilities:\n",
      "[0.96810266 0.03189734]\n",
      "Group Means:\n",
      "[[5.07499371e-01 5.61487295e-01 5.56092411e-01 1.17719099e-01\n",
      "  5.55001102e+09 1.11500340e-01 8.15420501e-01 1.25669967e-01\n",
      "  8.96077591e-02 5.93879112e-01 3.06814657e-02 8.09838677e-01]\n",
      " [4.21282047e-01 4.58457712e-01 4.65005880e-01 3.33512513e-02\n",
      "  4.96788333e+09 1.85968720e-01 7.49489244e-01 4.96204862e-02\n",
      "  1.39421993e-01 5.58209193e-01 6.24193244e-02 7.39513902e-01]]\n",
      "Confusion Matrix (LDA Model):\n",
      "[[1299   19]\n",
      " [  31   15]]\n",
      "Classification Report (LDA Model):\n",
      "              precision    recall  f1-score   support\n",
      "\n",
      "           0      0.977     0.986     0.981      1318\n",
      "           1      0.441     0.326     0.375        46\n",
      "\n",
      "    accuracy                          0.963      1364\n",
      "   macro avg      0.709     0.656     0.678      1364\n",
      "weighted avg      0.959     0.963     0.961      1364\n",
      "\n"
     ]
    }
   ],
   "source": [
    "#2. Calculate the Confusion Matrix and Classification Report for the LDA Model\n",
    "from sklearn.discriminant_analysis import LinearDiscriminantAnalysis\n",
    "\n",
    "lda = LinearDiscriminantAnalysis()\n",
    "model_lda = lda.fit(x_train, np.ravel(y_train))\n",
    "yhat_lda = model_lda.predict(x_test)\n",
    "print(\"Prior probabilities:\")\n",
    "print(model_lda.priors_)\n",
    "print(\"Group Means:\")\n",
    "print(model_lda.means_)\n",
    "\n",
    "# Confusion Matrix\n",
    "confusion_lda = confusion_matrix(y_test, yhat_lda)\n",
    "print(\"Confusion Matrix (LDA Model):\")\n",
    "print(confusion_lda)\n",
    "\n",
    "# Classification Report\n",
    "report_lda = classification_report(y_test, yhat_lda, digits=3)\n",
    "print(\"Classification Report (LDA Model):\")\n",
    "print(report_lda)\n"
   ]
  },
  {
   "cell_type": "markdown",
   "id": "025d26b5",
   "metadata": {},
   "source": [
    "Specificity (True Negative Rate): 0.986\n",
    "This indicates that the LDA model correctly identifies 98.6% of the non-bankrupt cases, which is a high specificity.\n",
    "\n",
    "Sensitivity (Recall): 0.326\n",
    "The model correctly identifies only 32.6% of the bankrupt cases. This is a low sensitivity, suggesting that the model struggles to identify bankrupt cases.\n",
    "\n",
    "Precision:\n",
    "For class 0 (Non-Bankrupt): 0.977\n",
    "High precision indicates that 97.7% of the instances classified as non-bankrupt are indeed non-bankrupt.\n",
    "For class 1 (Bankrupt): 0.441\n",
    "The precision for bankrupt cases is lower, indicating that 44.1% of the instances classified as bankrupt are truly bankrupt.\n",
    "\n",
    "F1-Score:\n",
    "For class 0 (Non-Bankrupt): 0.981\n",
    "The F1-Score for non-bankrupt cases is high, indicating a good balance between precision and recall.\n",
    "\n",
    "For class 1 (Bankrupt): 0.375\n",
    "The F1-Score for bankrupt cases is lower, suggesting that the model's performance in identifying bankrupt cases is not strong.\n",
    "Accuracy: 0.963\n",
    "\n",
    "The overall accuracy of the LDA model is high (96.3%).\n",
    "\n",
    "Macro-Averaged F1-Score: 0.678\n",
    "The macro-average F1-Score takes the average of the F1-Scores for each class. It is relatively high at 0.678, indicating a good overall balance.\n",
    "\n",
    "Weighted-Averaged F1-Score: 0.961\n",
    "The weighted-average F1-Score accounts for class imbalances and is high at 0.961. This suggests that the model performs well overall but may struggle with the minority class (bankrupt).\n",
    "\n",
    "In summary, like the previous, the overall accuracy is high, but it has low sensitivity to classify correctly the minority class (bankrupt)."
   ]
  },
  {
   "cell_type": "code",
   "execution_count": 75,
   "id": "080a9523",
   "metadata": {},
   "outputs": [
    {
     "name": "stdout",
     "output_type": "stream",
     "text": [
      "Confusion Matrix (QDA Model):\n",
      "[[1280   38]\n",
      " [  30   16]]\n",
      "Classification Report (QDA Model):\n",
      "              precision    recall  f1-score   support\n",
      "\n",
      "           0      0.977     0.971     0.974      1318\n",
      "           1      0.296     0.348     0.320        46\n",
      "\n",
      "    accuracy                          0.950      1364\n",
      "   macro avg      0.637     0.659     0.647      1364\n",
      "weighted avg      0.954     0.950     0.952      1364\n",
      "\n"
     ]
    }
   ],
   "source": [
    "#3.Calculate the confusion matrix and then classification report on the test set for the QDA classifier\n",
    "from sklearn.discriminant_analysis import QuadraticDiscriminantAnalysis\n",
    "\n",
    "qda = QuadraticDiscriminantAnalysis()\n",
    "model_qda = qda.fit(x_train, np.ravel(y_train))\n",
    "yhat_qda = model_qda.predict(x_test)\n",
    "\n",
    "# Confusion Matrix for QDA\n",
    "confusion_qda = confusion_matrix(y_test, yhat_qda)\n",
    "print(\"Confusion Matrix (QDA Model):\")\n",
    "print(confusion_qda)\n",
    "\n",
    "# Classification Report for QDA\n",
    "report_qda = classification_report(y_test, yhat_qda, digits=3)\n",
    "print(\"Classification Report (QDA Model):\")\n",
    "print(report_qda)\n"
   ]
  },
  {
   "cell_type": "markdown",
   "id": "b9d9bd95",
   "metadata": {},
   "source": [
    "Performance is alomost same as LDA"
   ]
  },
  {
   "cell_type": "markdown",
   "id": "0674bb56",
   "metadata": {},
   "source": [
    "2.5 ROC (Receiver operating characteristic) curve"
   ]
  },
  {
   "cell_type": "code",
   "execution_count": 79,
   "id": "e6d33790",
   "metadata": {},
   "outputs": [],
   "source": [
    "#1.Interpret the outputs of the roc_curve() function\n",
    "from sklearn.metrics import roc_curve, auc\n",
    "import matplotlib.pyplot as plt\n",
    "# LDA Model\n",
    "lda_scores = lda.predict_proba(x_test)[:, 1]\n",
    "fpr_lda, tpr_lda, thresholds_lda = roc_curve(y_test, lda_scores)\n",
    "auc_lda = auc(fpr_lda, tpr_lda)"
   ]
  },
  {
   "cell_type": "markdown",
   "id": "74a16f76",
   "metadata": {},
   "source": [
    "fpr represents the false positive rate at different threshold values.\n",
    "tpr represents the true positive rate (or recall) at different threshold values.\n",
    "The thresholds array contains the threshold values at which these rates are calculated.\n",
    "The ROC curve is essentially a plot of fpr on the x-axis and tpr on the y-axis. It shows how the true positive rate and false positive rate change with different threshold values."
   ]
  },
  {
   "cell_type": "code",
   "execution_count": 93,
   "id": "131e0992",
   "metadata": {
    "scrolled": false
   },
   "outputs": [
    {
     "data": {
      "image/png": "[encoded data removed]",
      "text/plain": [
       "<Figure size 640x480 with 1 Axes>"
      ]
     },
     "metadata": {},
     "output_type": "display_data"
    }
   ],
   "source": [
    "# Calculate the auc for 4 models\n",
    "# QDA Model\n",
    "from sklearn.linear_model import LogisticRegression\n",
    "qda_scores = qda.predict_proba(x_test)[:, 1]\n",
    "fpr_qda, tpr_qda, thresholds_qda = roc_curve(y_test, qda_scores)\n",
    "auc_qda = auc(fpr_qda, tpr_qda)\n",
    "\n",
    "# Logistic Regression Model\n",
    "model = LogisticRegression()\n",
    "logreg = model.fit(x_train, np.ravel(y_train))\n",
    "logreg_scores = logreg.predict_proba(x_test)[:, 1]\n",
    "fpr_logreg, tpr_logreg, thresholds_logreg = roc_curve(y_test, logreg_scores)\n",
    "auc_logreg = auc(fpr_logreg, tpr_logreg)\n",
    "\n",
    "# KNN Model with Chosen K\n",
    "knn = KNeighborsClassifier(n_neighbors=best_k)\n",
    "knn.fit(x_train, np.ravel(y_train))\n",
    "knn_scores = knn.predict_proba(x_test)[:, 1]\n",
    "fpr_knn, tpr_knn, thresholds_knn = roc_curve(y_test, knn_scores)\n",
    "auc_knn = auc(fpr_knn, tpr_knn)\n",
    "\n",
    "# Plot ROC Curves\n",
    "plt.figure()\n",
    "plt.plot(fpr_lda, tpr_lda, color='orange', lw=2, label='LDA (AUC = {:.3f})'.format(auc_lda))\n",
    "plt.plot(fpr_qda, tpr_qda, color='red', lw=2, label='QDA (AUC = {:.3f})'.format(auc_qda))\n",
    "plt.plot(fpr_logreg, tpr_logreg, color='green', lw=2, label='Logistic Regression (AUC = {:.3f})'.format(auc_logreg))\n",
    "plt.plot(fpr_knn, tpr_knn, color='blue', lw=2, label='KNN (K={}) (AUC = {:.3f})'.format(best_k, auc_knn))\n",
    "plt.plot([0, 1], [0, 1], color='navy', lw=2, linestyle='--')\n",
    "plt.xlim([0.0, 1.0])\n",
    "plt.ylim([0.0, 1.05])\n",
    "plt.xlabel('False Positive Rate')\n",
    "plt.ylabel('True Positive Rate')\n",
    "plt.title('ROC Curves for Different Classifiers')\n",
    "plt.legend(loc=\"lower right\")\n",
    "plt.show()"
   ]
  },
  {
   "cell_type": "markdown",
   "id": "4d4f90db",
   "metadata": {},
   "source": [
    "LDA (AUC = 0.925): The ROC curve for LDA shows a good balance between true positives and false positives. \n",
    "\n",
    "QDA (AUC = 0.881): QDA also shows a reasonable balance. Similar to LDA.\n",
    "\n",
    "Logistic Regression (AUC = 0.693): Logistic regression appears to have a lower AUC compared to LDA and QDA. The ROC curve suggests that adjusting the threshold can improve its performance on the minority class. We may need to choose a lower threshold to increase sensitivity.\n",
    "\n",
    "KNN (K=1) (AUC = 0.553): KNN with K=1 has the lowest AUC and is not well-suited for this imbalanced dataset. We would need to adjust the threshold significantly, but it may not be effective in improving model performance."
   ]
  },
  {
   "cell_type": "code",
   "execution_count": 92,
   "id": "9d6ae904",
   "metadata": {},
   "outputs": [
    {
     "name": "stdout",
     "output_type": "stream",
     "text": [
      "LDA: Optimal Threshold = 0.013827884679596955, Sensitivity = 0.848, Specificity = 0.871\n",
      "QDA: Optimal Threshold = 0.00462082624977362, Sensitivity = 0.826, Specificity = 0.852\n",
      "Logistic Regression: Optimal Threshold = 0.04056792064928132, Sensitivity = 0.761, Specificity = 0.659\n",
      "KNN (K=1): Optimal Threshold = 1.0, Sensitivity = 0.130, Specificity = 0.976\n"
     ]
    }
   ],
   "source": [
    "##Threshold\n",
    "# For LDA\n",
    "j_stat_lda = tpr_lda - fpr_lda\n",
    "optimal_threshold_lda = thresholds_lda[np.argmax(j_stat_lda)]\n",
    "sensitivity_lda = tpr_lda[np.argmax(j_stat_lda)]\n",
    "specificity_lda = 1 - fpr_lda[np.argmax(j_stat_lda)]\n",
    "\n",
    "# For QDA\n",
    "j_stat_qda = tpr_qda - fpr_qda\n",
    "optimal_threshold_qda = thresholds_qda[np.argmax(j_stat_qda)]\n",
    "sensitivity_qda = tpr_qda[np.argmax(j_stat_qda)]\n",
    "specificity_qda = 1 - fpr_qda[np.argmax(j_stat_qda)]\n",
    "\n",
    "# For Logistic Regression\n",
    "j_stat_logreg = tpr_logreg - fpr_logreg\n",
    "optimal_threshold_logreg = thresholds_logreg[np.argmax(j_stat_logreg)]\n",
    "sensitivity_logreg = tpr_logreg[np.argmax(j_stat_logreg)]\n",
    "specificity_logreg = 1 - fpr_logreg[np.argmax(j_stat_logreg)]\n",
    "\n",
    "# For KNN (K=1)\n",
    "j_stat_knn = tpr_knn - fpr_knn\n",
    "optimal_threshold_knn = thresholds_knn[np.argmax(j_stat_knn)]\n",
    "sensitivity_knn = tpr_knn[np.argmax(j_stat_knn)]\n",
    "specificity_knn = 1 - fpr_knn[np.argmax(j_stat_knn)]\n",
    "\n",
    "# Print the optimal thresholds and corresponding sensitivity and specificity for each model\n",
    "print(f\"LDA: Optimal Threshold = {optimal_threshold_lda}, Sensitivity = {sensitivity_lda:.3f}, Specificity = {specificity_lda:.3f}\")\n",
    "print(f\"QDA: Optimal Threshold = {optimal_threshold_qda}, Sensitivity = {sensitivity_qda:.3f}, Specificity = {specificity_qda:.3f}\")\n",
    "print(f\"Logistic Regression: Optimal Threshold = {optimal_threshold_logreg}, Sensitivity = {sensitivity_logreg:.3f}, Specificity = {specificity_logreg:.3f}\")\n",
    "print(f\"KNN (K=1): Optimal Threshold = {optimal_threshold_knn}, Sensitivity = {sensitivity_knn:.3f}, Specificity = {specificity_knn:.3f}\")\n"
   ]
  },
  {
   "cell_type": "markdown",
   "id": "da376096",
   "metadata": {},
   "source": [
    "Advantages and Disadvantages of Dealing with Imbalanced Data:\n",
    "\n",
    "Advantages:\n",
    "\n",
    "You can tune your model to focus on the class of interest (e.g., bankrupt companies) by adjusting the classification threshold.\n",
    "Threshold tuning can lead to a better trade-off between the two classes, improving model performance.\n",
    "\n",
    "Disadvantages:\n",
    "\n",
    "Imbalanced datasets can result in models that are overly biased toward the majority class.\n",
    "Tuning the threshold may lead to a decrease in overall accuracy, which might not be suitable for all use cases.\n",
    "The choice of the threshold is subjective and context-dependent, making it important to consider the specific goals of your analysis."
   ]
  },
  {
   "cell_type": "code",
   "execution_count": null,
   "id": "05524b4c",
   "metadata": {},
   "outputs": [],
   "source": []
  }
 ],
 "metadata": {
  "kernelspec": {
   "display_name": "Python 3 (ipykernel)",
   "language": "python",
   "name": "python3"
  },
  "language_info": {
   "codemirror_mode": {
    "name": "ipython",
    "version": 3
   },
   "file_extension": ".py",
   "mimetype": "text/x-python",
   "name": "python",
   "nbconvert_exporter": "python",
   "pygments_lexer": "ipython3",
   "version": "3.10.9"
  }
 },
 "nbformat": 4,
 "nbformat_minor": 5
}
